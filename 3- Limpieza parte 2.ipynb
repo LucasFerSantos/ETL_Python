{
 "cells": [
  {
   "cell_type": "markdown",
   "id": "f57cea5e",
   "metadata": {},
   "source": [
    "Importamos las librerias"
   ]
  },
  {
   "cell_type": "code",
   "execution_count": 1,
   "id": "6fd9097e",
   "metadata": {},
   "outputs": [],
   "source": [
    "import pandas as pd\n",
    "import numpy as np"
   ]
  },
  {
   "cell_type": "markdown",
   "id": "3ff34cf9",
   "metadata": {},
   "source": [
    "Exportamos los dataframes (con correcciones echas en excel)"
   ]
  },
  {
   "cell_type": "code",
   "execution_count": 3,
   "id": "89eaab4f",
   "metadata": {},
   "outputs": [],
   "source": [
    "df = pd.read_excel(\"departamentos pais  extras corregidos.xlsx\")"
   ]
  },
  {
   "cell_type": "code",
   "execution_count": 4,
   "id": "db21b2dd",
   "metadata": {
    "scrolled": true
   },
   "outputs": [
    {
     "data": {
      "text/html": [
       "<div>\n",
       "<style scoped>\n",
       "    .dataframe tbody tr th:only-of-type {\n",
       "        vertical-align: middle;\n",
       "    }\n",
       "\n",
       "    .dataframe tbody tr th {\n",
       "        vertical-align: top;\n",
       "    }\n",
       "\n",
       "    .dataframe thead th {\n",
       "        text-align: right;\n",
       "    }\n",
       "</style>\n",
       "<table border=\"1\" class=\"dataframe\">\n",
       "  <thead>\n",
       "    <tr style=\"text-align: right;\">\n",
       "      <th></th>\n",
       "      <th>Unnamed: 0</th>\n",
       "      <th>Direccion</th>\n",
       "      <th>Ubicacion</th>\n",
       "      <th>Moneda</th>\n",
       "      <th>Precio</th>\n",
       "      <th>Expensas</th>\n",
       "      <th>Metros Cuadrados</th>\n",
       "      <th>Dormitorios</th>\n",
       "      <th>Antigüedad</th>\n",
       "      <th>Baños</th>\n",
       "    </tr>\n",
       "  </thead>\n",
       "  <tbody>\n",
       "    <tr>\n",
       "      <th>0</th>\n",
       "      <td>1</td>\n",
       "      <td>\\n            Palpa 2500\\n</td>\n",
       "      <td>Departamento en Venta en Belgrano C, Belgrano</td>\n",
       "      <td>USD</td>\n",
       "      <td>\\n 145.000</td>\n",
       "      <td>11000.0</td>\n",
       "      <td>\\n\\nM2\\n&lt;span&gt;\\n                              ...</td>\n",
       "      <td>\\n&lt;/li&gt;\\n\\nDormitorios\\n&lt;span&gt;\\n              ...</td>\n",
       "      <td>NaN</td>\n",
       "      <td>\\n&lt;/li&gt;\\n\\nbaños\\n&lt;span&gt;\\n                    ...</td>\n",
       "    </tr>\n",
       "    <tr>\n",
       "      <th>1</th>\n",
       "      <td>2</td>\n",
       "      <td>\\n            Virrey Olaguer  y Feliu 3100\\n ...</td>\n",
       "      <td>Departamento en Venta en Belgrano R, Belgrano</td>\n",
       "      <td>USD</td>\n",
       "      <td>\\n 107.000</td>\n",
       "      <td>11000.0</td>\n",
       "      <td>\\n\\nM2\\n&lt;span&gt;\\n                             ...</td>\n",
       "      <td>\\n&lt;/li&gt;\\n\\nDormitorios\\n&lt;span&gt;\\n              ...</td>\n",
       "      <td>\\n&lt;/li&gt;\\n\\nAntiguedad\\n&lt;span&gt;\\n               ...</td>\n",
       "      <td>\\n&lt;/li&gt;\\n\\nbaños\\n&lt;span&gt;\\n                    ...</td>\n",
       "    </tr>\n",
       "    <tr>\n",
       "      <th>2</th>\n",
       "      <td>3</td>\n",
       "      <td>\\n            Olleros 1800\\n</td>\n",
       "      <td>Departamento en Venta en Belgrano, Capital Fe...</td>\n",
       "      <td>USD</td>\n",
       "      <td>\\n 389.000</td>\n",
       "      <td>14000.0</td>\n",
       "      <td>\\n\\nM2\\n&lt;span&gt;\\n                             ...</td>\n",
       "      <td>\\n&lt;/li&gt;\\n\\nDormitorios\\n&lt;span&gt;\\n              ...</td>\n",
       "      <td>NaN</td>\n",
       "      <td>\\n&lt;/li&gt;\\n\\nbaños\\n&lt;span&gt;\\n                    ...</td>\n",
       "    </tr>\n",
       "    <tr>\n",
       "      <th>3</th>\n",
       "      <td>4</td>\n",
       "      <td>\\n            Franklin D Roosevelt 1600, Piso...</td>\n",
       "      <td>Departamento en Venta en Belgrano Barrancas, ...</td>\n",
       "      <td>USD</td>\n",
       "      <td>\\n 68.000</td>\n",
       "      <td>8800.0</td>\n",
       "      <td>\\n\\nM2\\n&lt;span&gt;\\n                             ...</td>\n",
       "      <td>\\n&lt;/li&gt;\\n\\nDormitorios\\n&lt;span&gt;\\n              ...</td>\n",
       "      <td>\\n&lt;/li&gt;\\n\\nAntiguedad\\n&lt;span&gt;\\n               ...</td>\n",
       "      <td>\\n&lt;/li&gt;\\n\\nbaños\\n&lt;span&gt;\\n                    ...</td>\n",
       "    </tr>\n",
       "    <tr>\n",
       "      <th>4</th>\n",
       "      <td>5</td>\n",
       "      <td>\\n            Av. Cnel.diaz 1400, Piso 7\\n   ...</td>\n",
       "      <td>Departamento en Venta en Palermo, Capital Fed...</td>\n",
       "      <td>USD</td>\n",
       "      <td>\\n 239.000</td>\n",
       "      <td>18000.0</td>\n",
       "      <td>\\n\\nM2\\n&lt;span&gt;\\n                             ...</td>\n",
       "      <td>\\n&lt;/li&gt;\\n\\nDormitorios\\n&lt;span&gt;\\n              ...</td>\n",
       "      <td>\\n&lt;/li&gt;\\n\\nAntiguedad\\n&lt;span&gt;\\n               ...</td>\n",
       "      <td>\\n&lt;/li&gt;\\n\\nbaños\\n&lt;span&gt;\\n                    ...</td>\n",
       "    </tr>\n",
       "    <tr>\n",
       "      <th>...</th>\n",
       "      <td>...</td>\n",
       "      <td>...</td>\n",
       "      <td>...</td>\n",
       "      <td>...</td>\n",
       "      <td>...</td>\n",
       "      <td>...</td>\n",
       "      <td>...</td>\n",
       "      <td>...</td>\n",
       "      <td>...</td>\n",
       "      <td>...</td>\n",
       "    </tr>\n",
       "    <tr>\n",
       "      <th>18995</th>\n",
       "      <td>18996</td>\n",
       "      <td>\\n            PASEO 116 E/ AV 1 Y COSTANERA\\n...</td>\n",
       "      <td>Departamento en Venta en Villa Gesell, Buenos...</td>\n",
       "      <td>USD</td>\n",
       "      <td>\\n 48.000</td>\n",
       "      <td>NaN</td>\n",
       "      <td>NaN</td>\n",
       "      <td>\\n\\nDormitorios\\n&lt;span&gt;\\n                    ...</td>\n",
       "      <td>NaN</td>\n",
       "      <td>\\n&lt;/li&gt;\\n\\nbaños\\n&lt;span&gt;\\n                    ...</td>\n",
       "    </tr>\n",
       "    <tr>\n",
       "      <th>18996</th>\n",
       "      <td>18997</td>\n",
       "      <td>\\n            Plaza San Martin\\n</td>\n",
       "      <td>Departamento en Venta en Barrio Norte, Capita...</td>\n",
       "      <td>USD</td>\n",
       "      <td>\\n 300.000</td>\n",
       "      <td>NaN</td>\n",
       "      <td>\\n\\nM2\\n&lt;span&gt;\\n                             ...</td>\n",
       "      <td>\\n&lt;/li&gt;\\n\\nDormitorios\\n&lt;span&gt;\\n              ...</td>\n",
       "      <td>\\n&lt;/li&gt;\\n\\nAntiguedad\\n&lt;span&gt;\\n               ...</td>\n",
       "      <td>\\n&lt;/li&gt;\\n\\nbaños\\n&lt;span&gt;\\n                    ...</td>\n",
       "    </tr>\n",
       "    <tr>\n",
       "      <th>18997</th>\n",
       "      <td>18998</td>\n",
       "      <td>\\n            Av La Plata 3400\\n</td>\n",
       "      <td>Departamento en Venta en Santos Lugares, Tres...</td>\n",
       "      <td>USD</td>\n",
       "      <td>\\n 120.000</td>\n",
       "      <td>NaN</td>\n",
       "      <td>\\n\\nM2\\n&lt;span&gt;\\n                             ...</td>\n",
       "      <td>\\n&lt;/li&gt;\\n\\nDormitorios\\n&lt;span&gt;\\n              ...</td>\n",
       "      <td>\\n&lt;/li&gt;\\n\\nAntiguedad\\n&lt;span&gt;\\n               ...</td>\n",
       "      <td>\\n&lt;/li&gt;\\n\\nbaños\\n&lt;span&gt;\\n                    ...</td>\n",
       "    </tr>\n",
       "    <tr>\n",
       "      <th>18998</th>\n",
       "      <td>18999</td>\n",
       "      <td>\\n            Montevideo 1900, Piso 11\\n</td>\n",
       "      <td>Departamento en Venta en Centro, Capital Federal</td>\n",
       "      <td>USD</td>\n",
       "      <td>\\n 118.000</td>\n",
       "      <td>NaN</td>\n",
       "      <td>\\n\\nM2\\n&lt;span&gt;\\n                             ...</td>\n",
       "      <td>\\n&lt;/li&gt;\\n\\nDormitorios\\n&lt;span&gt;\\n              ...</td>\n",
       "      <td>\\n&lt;/li&gt;\\n\\nAntiguedad\\n&lt;span&gt;\\n               ...</td>\n",
       "      <td>\\n&lt;/li&gt;\\n\\nbaños\\n&lt;span&gt;\\n                    ...</td>\n",
       "    </tr>\n",
       "    <tr>\n",
       "      <th>18999</th>\n",
       "      <td>19000</td>\n",
       "      <td>\\n            Diagonal 26 900\\n</td>\n",
       "      <td>Departamento en Venta en Santa Teresita, De L...</td>\n",
       "      <td>USD</td>\n",
       "      <td>\\n 33.000</td>\n",
       "      <td>NaN</td>\n",
       "      <td>NaN</td>\n",
       "      <td>\\n\\nDormitorios\\n&lt;span&gt;\\n                    ...</td>\n",
       "      <td>NaN</td>\n",
       "      <td>\\n&lt;/li&gt;\\n\\nbaños\\n&lt;span&gt;\\n                    ...</td>\n",
       "    </tr>\n",
       "  </tbody>\n",
       "</table>\n",
       "<p>19000 rows × 10 columns</p>\n",
       "</div>"
      ],
      "text/plain": [
       "       Unnamed: 0                                          Direccion  \\\n",
       "0               1                 \\n            Palpa 2500\\n           \n",
       "1               2   \\n            Virrey Olaguer  y Feliu 3100\\n ...   \n",
       "2               3               \\n            Olleros 1800\\n           \n",
       "3               4   \\n            Franklin D Roosevelt 1600, Piso...   \n",
       "4               5   \\n            Av. Cnel.diaz 1400, Piso 7\\n   ...   \n",
       "...           ...                                                ...   \n",
       "18995       18996   \\n            PASEO 116 E/ AV 1 Y COSTANERA\\n...   \n",
       "18996       18997           \\n            Plaza San Martin\\n           \n",
       "18997       18998           \\n            Av La Plata 3400\\n           \n",
       "18998       18999   \\n            Montevideo 1900, Piso 11\\n           \n",
       "18999       19000            \\n            Diagonal 26 900\\n           \n",
       "\n",
       "                                               Ubicacion Moneda  \\\n",
       "0          Departamento en Venta en Belgrano C, Belgrano    USD   \n",
       "1          Departamento en Venta en Belgrano R, Belgrano    USD   \n",
       "2       Departamento en Venta en Belgrano, Capital Fe...    USD   \n",
       "3       Departamento en Venta en Belgrano Barrancas, ...    USD   \n",
       "4       Departamento en Venta en Palermo, Capital Fed...    USD   \n",
       "...                                                  ...    ...   \n",
       "18995   Departamento en Venta en Villa Gesell, Buenos...    USD   \n",
       "18996   Departamento en Venta en Barrio Norte, Capita...    USD   \n",
       "18997   Departamento en Venta en Santos Lugares, Tres...    USD   \n",
       "18998   Departamento en Venta en Centro, Capital Federal    USD   \n",
       "18999   Departamento en Venta en Santa Teresita, De L...    USD   \n",
       "\n",
       "                        Precio  Expensas  \\\n",
       "0       \\n 145.000               11000.0   \n",
       "1       \\n 107.000               11000.0   \n",
       "2       \\n 389.000               14000.0   \n",
       "3        \\n 68.000                8800.0   \n",
       "4       \\n 239.000               18000.0   \n",
       "...                        ...       ...   \n",
       "18995    \\n 48.000                   NaN   \n",
       "18996   \\n 300.000                   NaN   \n",
       "18997   \\n 120.000                   NaN   \n",
       "18998   \\n 118.000                   NaN   \n",
       "18999    \\n 33.000                   NaN   \n",
       "\n",
       "                                        Metros Cuadrados  \\\n",
       "0      \\n\\nM2\\n<span>\\n                              ...   \n",
       "1       \\n\\nM2\\n<span>\\n                             ...   \n",
       "2       \\n\\nM2\\n<span>\\n                             ...   \n",
       "3       \\n\\nM2\\n<span>\\n                             ...   \n",
       "4       \\n\\nM2\\n<span>\\n                             ...   \n",
       "...                                                  ...   \n",
       "18995                                                NaN   \n",
       "18996   \\n\\nM2\\n<span>\\n                             ...   \n",
       "18997   \\n\\nM2\\n<span>\\n                             ...   \n",
       "18998   \\n\\nM2\\n<span>\\n                             ...   \n",
       "18999                                                NaN   \n",
       "\n",
       "                                             Dormitorios  \\\n",
       "0      \\n</li>\\n\\nDormitorios\\n<span>\\n              ...   \n",
       "1      \\n</li>\\n\\nDormitorios\\n<span>\\n              ...   \n",
       "2      \\n</li>\\n\\nDormitorios\\n<span>\\n              ...   \n",
       "3      \\n</li>\\n\\nDormitorios\\n<span>\\n              ...   \n",
       "4      \\n</li>\\n\\nDormitorios\\n<span>\\n              ...   \n",
       "...                                                  ...   \n",
       "18995   \\n\\nDormitorios\\n<span>\\n                    ...   \n",
       "18996  \\n</li>\\n\\nDormitorios\\n<span>\\n              ...   \n",
       "18997  \\n</li>\\n\\nDormitorios\\n<span>\\n              ...   \n",
       "18998  \\n</li>\\n\\nDormitorios\\n<span>\\n              ...   \n",
       "18999   \\n\\nDormitorios\\n<span>\\n                    ...   \n",
       "\n",
       "                                              Antigüedad  \\\n",
       "0                                                    NaN   \n",
       "1      \\n</li>\\n\\nAntiguedad\\n<span>\\n               ...   \n",
       "2                                                    NaN   \n",
       "3      \\n</li>\\n\\nAntiguedad\\n<span>\\n               ...   \n",
       "4      \\n</li>\\n\\nAntiguedad\\n<span>\\n               ...   \n",
       "...                                                  ...   \n",
       "18995                                                NaN   \n",
       "18996  \\n</li>\\n\\nAntiguedad\\n<span>\\n               ...   \n",
       "18997  \\n</li>\\n\\nAntiguedad\\n<span>\\n               ...   \n",
       "18998  \\n</li>\\n\\nAntiguedad\\n<span>\\n               ...   \n",
       "18999                                                NaN   \n",
       "\n",
       "                                                   Baños  \n",
       "0      \\n</li>\\n\\nbaños\\n<span>\\n                    ...  \n",
       "1      \\n</li>\\n\\nbaños\\n<span>\\n                    ...  \n",
       "2      \\n</li>\\n\\nbaños\\n<span>\\n                    ...  \n",
       "3      \\n</li>\\n\\nbaños\\n<span>\\n                    ...  \n",
       "4      \\n</li>\\n\\nbaños\\n<span>\\n                    ...  \n",
       "...                                                  ...  \n",
       "18995  \\n</li>\\n\\nbaños\\n<span>\\n                    ...  \n",
       "18996  \\n</li>\\n\\nbaños\\n<span>\\n                    ...  \n",
       "18997  \\n</li>\\n\\nbaños\\n<span>\\n                    ...  \n",
       "18998  \\n</li>\\n\\nbaños\\n<span>\\n                    ...  \n",
       "18999  \\n</li>\\n\\nbaños\\n<span>\\n                    ...  \n",
       "\n",
       "[19000 rows x 10 columns]"
      ]
     },
     "execution_count": 4,
     "metadata": {},
     "output_type": "execute_result"
    }
   ],
   "source": [
    "df"
   ]
  },
  {
   "cell_type": "code",
   "execution_count": 48,
   "id": "c726c0a6",
   "metadata": {},
   "outputs": [
    {
     "name": "stdout",
     "output_type": "stream",
     "text": [
      "<class 'pandas.core.frame.DataFrame'>\n",
      "RangeIndex: 19000 entries, 0 to 18999\n",
      "Data columns (total 9 columns):\n",
      " #   Column            Non-Null Count  Dtype  \n",
      "---  ------            --------------  -----  \n",
      " 0   Direccion         18956 non-null  object \n",
      " 1   Barrio            19000 non-null  object \n",
      " 2   Localidad         19000 non-null  object \n",
      " 3   Moneda            18549 non-null  object \n",
      " 4   Precio            18410 non-null  float64\n",
      " 5   Expensas          11133 non-null  float64\n",
      " 6   Metros Cuadrados  16988 non-null  float64\n",
      " 7   Dormitorios       18617 non-null  float64\n",
      " 8   Antigüedad        10921 non-null  float64\n",
      "dtypes: float64(5), object(4)\n",
      "memory usage: 1.3+ MB\n"
     ]
    }
   ],
   "source": [
    "df.info()"
   ]
  },
  {
   "cell_type": "markdown",
   "id": "c20b5e17",
   "metadata": {},
   "source": [
    "Sigue la limpieza quitando los caracteres y etiquetas innecesarios "
   ]
  },
  {
   "cell_type": "code",
   "execution_count": 5,
   "id": "eea97d37",
   "metadata": {},
   "outputs": [],
   "source": [
    "df['Direccion'] = df['Direccion'].str.strip()"
   ]
  },
  {
   "cell_type": "code",
   "execution_count": 6,
   "id": "9e4e49e8",
   "metadata": {},
   "outputs": [],
   "source": [
    "df['Direccion'] = df['Direccion'].str.title()"
   ]
  },
  {
   "cell_type": "code",
   "execution_count": 7,
   "id": "8bf98ada",
   "metadata": {},
   "outputs": [],
   "source": [
    "df['Ubicacion'] = df['Ubicacion'].replace({'Departamento en Venta en':' '}, regex=True )"
   ]
  },
  {
   "cell_type": "code",
   "execution_count": 9,
   "id": "abf1f743",
   "metadata": {},
   "outputs": [
    {
     "data": {
      "text/html": [
       "<div>\n",
       "<style scoped>\n",
       "    .dataframe tbody tr th:only-of-type {\n",
       "        vertical-align: middle;\n",
       "    }\n",
       "\n",
       "    .dataframe tbody tr th {\n",
       "        vertical-align: top;\n",
       "    }\n",
       "\n",
       "    .dataframe thead th {\n",
       "        text-align: right;\n",
       "    }\n",
       "</style>\n",
       "<table border=\"1\" class=\"dataframe\">\n",
       "  <thead>\n",
       "    <tr style=\"text-align: right;\">\n",
       "      <th></th>\n",
       "      <th>Unnamed: 0</th>\n",
       "      <th>Direccion</th>\n",
       "      <th>Ubicacion</th>\n",
       "      <th>Moneda</th>\n",
       "      <th>Precio</th>\n",
       "      <th>Expensas</th>\n",
       "      <th>Metros Cuadrados</th>\n",
       "      <th>Dormitorios</th>\n",
       "      <th>Antigüedad</th>\n",
       "      <th>Baños</th>\n",
       "    </tr>\n",
       "  </thead>\n",
       "  <tbody>\n",
       "    <tr>\n",
       "      <th>0</th>\n",
       "      <td>1</td>\n",
       "      <td>Palpa 2500</td>\n",
       "      <td>Belgrano C, Belgrano</td>\n",
       "      <td>USD</td>\n",
       "      <td>\\n 145.000</td>\n",
       "      <td>11000.0</td>\n",
       "      <td>\\n\\nM2\\n&lt;span&gt;\\n                              ...</td>\n",
       "      <td>\\n&lt;/li&gt;\\n\\nDormitorios\\n&lt;span&gt;\\n              ...</td>\n",
       "      <td>NaN</td>\n",
       "      <td>\\n&lt;/li&gt;\\n\\nbaños\\n&lt;span&gt;\\n                    ...</td>\n",
       "    </tr>\n",
       "    <tr>\n",
       "      <th>1</th>\n",
       "      <td>2</td>\n",
       "      <td>Virrey Olaguer  Y Feliu 3100</td>\n",
       "      <td>Belgrano R, Belgrano</td>\n",
       "      <td>USD</td>\n",
       "      <td>\\n 107.000</td>\n",
       "      <td>11000.0</td>\n",
       "      <td>\\n\\nM2\\n&lt;span&gt;\\n                             ...</td>\n",
       "      <td>\\n&lt;/li&gt;\\n\\nDormitorios\\n&lt;span&gt;\\n              ...</td>\n",
       "      <td>\\n&lt;/li&gt;\\n\\nAntiguedad\\n&lt;span&gt;\\n               ...</td>\n",
       "      <td>\\n&lt;/li&gt;\\n\\nbaños\\n&lt;span&gt;\\n                    ...</td>\n",
       "    </tr>\n",
       "  </tbody>\n",
       "</table>\n",
       "</div>"
      ],
      "text/plain": [
       "   Unnamed: 0                     Direccion                Ubicacion Moneda  \\\n",
       "0           1                    Palpa 2500     Belgrano C, Belgrano    USD   \n",
       "1           2  Virrey Olaguer  Y Feliu 3100     Belgrano R, Belgrano    USD   \n",
       "\n",
       "                    Precio  Expensas  \\\n",
       "0   \\n 145.000               11000.0   \n",
       "1   \\n 107.000               11000.0   \n",
       "\n",
       "                                    Metros Cuadrados  \\\n",
       "0  \\n\\nM2\\n<span>\\n                              ...   \n",
       "1   \\n\\nM2\\n<span>\\n                             ...   \n",
       "\n",
       "                                         Dormitorios  \\\n",
       "0  \\n</li>\\n\\nDormitorios\\n<span>\\n              ...   \n",
       "1  \\n</li>\\n\\nDormitorios\\n<span>\\n              ...   \n",
       "\n",
       "                                          Antigüedad  \\\n",
       "0                                                NaN   \n",
       "1  \\n</li>\\n\\nAntiguedad\\n<span>\\n               ...   \n",
       "\n",
       "                                               Baños  \n",
       "0  \\n</li>\\n\\nbaños\\n<span>\\n                    ...  \n",
       "1  \\n</li>\\n\\nbaños\\n<span>\\n                    ...  "
      ]
     },
     "execution_count": 9,
     "metadata": {},
     "output_type": "execute_result"
    }
   ],
   "source": [
    "df.head(2)"
   ]
  },
  {
   "cell_type": "code",
   "execution_count": 10,
   "id": "18c163c9",
   "metadata": {},
   "outputs": [],
   "source": [
    "df['Precio'] = df['Precio'].str.strip()"
   ]
  },
  {
   "cell_type": "code",
   "execution_count": 11,
   "id": "e57b5bef",
   "metadata": {},
   "outputs": [],
   "source": [
    "df['Expensas'] = df['Expensas'].replace({'$':' '}, regex=True )"
   ]
  },
  {
   "cell_type": "code",
   "execution_count": 12,
   "id": "736152aa",
   "metadata": {},
   "outputs": [],
   "source": [
    "df['Metros Cuadrados'] = df['Metros Cuadrados'].replace({'</li>':' ','Dormitorios':' ','<span>':'','M2':'','m²':'','</ul>':'','dorm.':'','Monoam.':'1' }, regex=True )"
   ]
  },
  {
   "cell_type": "code",
   "execution_count": 13,
   "id": "708b9648",
   "metadata": {},
   "outputs": [],
   "source": [
    "df['Metros Cuadrados'] = df['Metros Cuadrados'].str.strip()"
   ]
  },
  {
   "cell_type": "code",
   "execution_count": 14,
   "id": "f8ddd465",
   "metadata": {},
   "outputs": [],
   "source": [
    "df['Dormitorios'] = df['Dormitorios'].replace({'</li>':' ','Dormitorios':' ','<span>':' ','dorm.':' ','Monoam.':'0'}, regex=True )"
   ]
  },
  {
   "cell_type": "code",
   "execution_count": 15,
   "id": "c7455b97",
   "metadata": {},
   "outputs": [],
   "source": [
    "df['Dormitorios'] = df['Dormitorios'].str.strip()"
   ]
  },
  {
   "cell_type": "code",
   "execution_count": 16,
   "id": "7ad294a2",
   "metadata": {},
   "outputs": [],
   "source": [
    "df['Antigüedad'] = df['Antigüedad'].replace({'</li>':' ','Antiguedad':' ','<span>':' ','años':'','año':'',' A Estrenar':''}, regex=True )"
   ]
  },
  {
   "cell_type": "code",
   "execution_count": 17,
   "id": "60a227b2",
   "metadata": {},
   "outputs": [],
   "source": [
    "df['Antigüedad'] = df['Antigüedad'].str.strip()"
   ]
  },
  {
   "cell_type": "code",
   "execution_count": 18,
   "id": "e714854f",
   "metadata": {},
   "outputs": [],
   "source": [
    "df['Baños'] = df['Baños'].replace({'</li>':' ','baños':' ','<span>':' ','baño':''}, regex=True )"
   ]
  },
  {
   "cell_type": "code",
   "execution_count": 19,
   "id": "8fdb9ac5",
   "metadata": {},
   "outputs": [],
   "source": [
    "df['Baños'] = df['Baños'].str.strip()"
   ]
  },
  {
   "cell_type": "code",
   "execution_count": 20,
   "id": "c9d1ae91",
   "metadata": {
    "scrolled": true
   },
   "outputs": [
    {
     "data": {
      "text/html": [
       "<div>\n",
       "<style scoped>\n",
       "    .dataframe tbody tr th:only-of-type {\n",
       "        vertical-align: middle;\n",
       "    }\n",
       "\n",
       "    .dataframe tbody tr th {\n",
       "        vertical-align: top;\n",
       "    }\n",
       "\n",
       "    .dataframe thead th {\n",
       "        text-align: right;\n",
       "    }\n",
       "</style>\n",
       "<table border=\"1\" class=\"dataframe\">\n",
       "  <thead>\n",
       "    <tr style=\"text-align: right;\">\n",
       "      <th></th>\n",
       "      <th>Unnamed: 0</th>\n",
       "      <th>Direccion</th>\n",
       "      <th>Ubicacion</th>\n",
       "      <th>Moneda</th>\n",
       "      <th>Precio</th>\n",
       "      <th>Expensas</th>\n",
       "      <th>Metros Cuadrados</th>\n",
       "      <th>Dormitorios</th>\n",
       "      <th>Antigüedad</th>\n",
       "      <th>Baños</th>\n",
       "    </tr>\n",
       "  </thead>\n",
       "  <tbody>\n",
       "    <tr>\n",
       "      <th>0</th>\n",
       "      <td>1</td>\n",
       "      <td>Palpa 2500</td>\n",
       "      <td>Belgrano C, Belgrano</td>\n",
       "      <td>USD</td>\n",
       "      <td>145.000</td>\n",
       "      <td>11000.0</td>\n",
       "      <td>55</td>\n",
       "      <td>2</td>\n",
       "      <td>NaN</td>\n",
       "      <td>1</td>\n",
       "    </tr>\n",
       "    <tr>\n",
       "      <th>1</th>\n",
       "      <td>2</td>\n",
       "      <td>Virrey Olaguer  Y Feliu 3100</td>\n",
       "      <td>Belgrano R, Belgrano</td>\n",
       "      <td>USD</td>\n",
       "      <td>107.000</td>\n",
       "      <td>11000.0</td>\n",
       "      <td>50</td>\n",
       "      <td>1</td>\n",
       "      <td>20</td>\n",
       "      <td>1</td>\n",
       "    </tr>\n",
       "  </tbody>\n",
       "</table>\n",
       "</div>"
      ],
      "text/plain": [
       "   Unnamed: 0                     Direccion                Ubicacion Moneda  \\\n",
       "0           1                    Palpa 2500     Belgrano C, Belgrano    USD   \n",
       "1           2  Virrey Olaguer  Y Feliu 3100     Belgrano R, Belgrano    USD   \n",
       "\n",
       "    Precio  Expensas Metros Cuadrados Dormitorios Antigüedad Baños  \n",
       "0  145.000   11000.0               55           2        NaN     1  \n",
       "1  107.000   11000.0               50           1         20     1  "
      ]
     },
     "execution_count": 20,
     "metadata": {},
     "output_type": "execute_result"
    }
   ],
   "source": [
    "df.head(2)"
   ]
  },
  {
   "cell_type": "markdown",
   "id": "6e1ba0c2",
   "metadata": {},
   "source": [
    "Separamos la ubicacion en barrio y localidad"
   ]
  },
  {
   "cell_type": "code",
   "execution_count": 24,
   "id": "2c7cbaf5",
   "metadata": {},
   "outputs": [],
   "source": [
    "ubi = df['Ubicacion'].str.split(\",\", expand=True)"
   ]
  },
  {
   "cell_type": "code",
   "execution_count": 25,
   "id": "7fccec5f",
   "metadata": {},
   "outputs": [
    {
     "data": {
      "text/html": [
       "<div>\n",
       "<style scoped>\n",
       "    .dataframe tbody tr th:only-of-type {\n",
       "        vertical-align: middle;\n",
       "    }\n",
       "\n",
       "    .dataframe tbody tr th {\n",
       "        vertical-align: top;\n",
       "    }\n",
       "\n",
       "    .dataframe thead th {\n",
       "        text-align: right;\n",
       "    }\n",
       "</style>\n",
       "<table border=\"1\" class=\"dataframe\">\n",
       "  <thead>\n",
       "    <tr style=\"text-align: right;\">\n",
       "      <th></th>\n",
       "      <th>0</th>\n",
       "      <th>1</th>\n",
       "    </tr>\n",
       "  </thead>\n",
       "  <tbody>\n",
       "    <tr>\n",
       "      <th>0</th>\n",
       "      <td>Belgrano C</td>\n",
       "      <td>Belgrano</td>\n",
       "    </tr>\n",
       "    <tr>\n",
       "      <th>1</th>\n",
       "      <td>Belgrano R</td>\n",
       "      <td>Belgrano</td>\n",
       "    </tr>\n",
       "    <tr>\n",
       "      <th>2</th>\n",
       "      <td>Belgrano</td>\n",
       "      <td>Capital Federal</td>\n",
       "    </tr>\n",
       "    <tr>\n",
       "      <th>3</th>\n",
       "      <td>Belgrano Barrancas</td>\n",
       "      <td>Belgrano</td>\n",
       "    </tr>\n",
       "    <tr>\n",
       "      <th>4</th>\n",
       "      <td>Palermo</td>\n",
       "      <td>Capital Federal</td>\n",
       "    </tr>\n",
       "    <tr>\n",
       "      <th>...</th>\n",
       "      <td>...</td>\n",
       "      <td>...</td>\n",
       "    </tr>\n",
       "    <tr>\n",
       "      <th>18995</th>\n",
       "      <td>Villa Gesell</td>\n",
       "      <td>Buenos Aires</td>\n",
       "    </tr>\n",
       "    <tr>\n",
       "      <th>18996</th>\n",
       "      <td>Barrio Norte</td>\n",
       "      <td>Capital Federal</td>\n",
       "    </tr>\n",
       "    <tr>\n",
       "      <th>18997</th>\n",
       "      <td>Santos Lugares</td>\n",
       "      <td>Tres De Febrero</td>\n",
       "    </tr>\n",
       "    <tr>\n",
       "      <th>18998</th>\n",
       "      <td>Centro</td>\n",
       "      <td>Capital Federal</td>\n",
       "    </tr>\n",
       "    <tr>\n",
       "      <th>18999</th>\n",
       "      <td>Santa Teresita</td>\n",
       "      <td>De La Costa</td>\n",
       "    </tr>\n",
       "  </tbody>\n",
       "</table>\n",
       "<p>19000 rows × 2 columns</p>\n",
       "</div>"
      ],
      "text/plain": [
       "                           0                 1\n",
       "0                 Belgrano C          Belgrano\n",
       "1                 Belgrano R          Belgrano\n",
       "2                   Belgrano   Capital Federal\n",
       "3         Belgrano Barrancas          Belgrano\n",
       "4                    Palermo   Capital Federal\n",
       "...                      ...               ...\n",
       "18995           Villa Gesell      Buenos Aires\n",
       "18996           Barrio Norte   Capital Federal\n",
       "18997         Santos Lugares   Tres De Febrero\n",
       "18998                 Centro   Capital Federal\n",
       "18999         Santa Teresita       De La Costa\n",
       "\n",
       "[19000 rows x 2 columns]"
      ]
     },
     "execution_count": 25,
     "metadata": {},
     "output_type": "execute_result"
    }
   ],
   "source": [
    "ubi"
   ]
  },
  {
   "cell_type": "code",
   "execution_count": 26,
   "id": "1dd94558",
   "metadata": {},
   "outputs": [],
   "source": [
    "ubi1 = ubi.rename(columns={0:'Barrio', 1:'Localidad'})"
   ]
  },
  {
   "cell_type": "code",
   "execution_count": 27,
   "id": "dd423ba8",
   "metadata": {},
   "outputs": [
    {
     "data": {
      "text/html": [
       "<div>\n",
       "<style scoped>\n",
       "    .dataframe tbody tr th:only-of-type {\n",
       "        vertical-align: middle;\n",
       "    }\n",
       "\n",
       "    .dataframe tbody tr th {\n",
       "        vertical-align: top;\n",
       "    }\n",
       "\n",
       "    .dataframe thead th {\n",
       "        text-align: right;\n",
       "    }\n",
       "</style>\n",
       "<table border=\"1\" class=\"dataframe\">\n",
       "  <thead>\n",
       "    <tr style=\"text-align: right;\">\n",
       "      <th></th>\n",
       "      <th>Barrio</th>\n",
       "      <th>Localidad</th>\n",
       "    </tr>\n",
       "  </thead>\n",
       "  <tbody>\n",
       "    <tr>\n",
       "      <th>0</th>\n",
       "      <td>Belgrano C</td>\n",
       "      <td>Belgrano</td>\n",
       "    </tr>\n",
       "    <tr>\n",
       "      <th>1</th>\n",
       "      <td>Belgrano R</td>\n",
       "      <td>Belgrano</td>\n",
       "    </tr>\n",
       "    <tr>\n",
       "      <th>2</th>\n",
       "      <td>Belgrano</td>\n",
       "      <td>Capital Federal</td>\n",
       "    </tr>\n",
       "    <tr>\n",
       "      <th>3</th>\n",
       "      <td>Belgrano Barrancas</td>\n",
       "      <td>Belgrano</td>\n",
       "    </tr>\n",
       "    <tr>\n",
       "      <th>4</th>\n",
       "      <td>Palermo</td>\n",
       "      <td>Capital Federal</td>\n",
       "    </tr>\n",
       "    <tr>\n",
       "      <th>...</th>\n",
       "      <td>...</td>\n",
       "      <td>...</td>\n",
       "    </tr>\n",
       "    <tr>\n",
       "      <th>18995</th>\n",
       "      <td>Villa Gesell</td>\n",
       "      <td>Buenos Aires</td>\n",
       "    </tr>\n",
       "    <tr>\n",
       "      <th>18996</th>\n",
       "      <td>Barrio Norte</td>\n",
       "      <td>Capital Federal</td>\n",
       "    </tr>\n",
       "    <tr>\n",
       "      <th>18997</th>\n",
       "      <td>Santos Lugares</td>\n",
       "      <td>Tres De Febrero</td>\n",
       "    </tr>\n",
       "    <tr>\n",
       "      <th>18998</th>\n",
       "      <td>Centro</td>\n",
       "      <td>Capital Federal</td>\n",
       "    </tr>\n",
       "    <tr>\n",
       "      <th>18999</th>\n",
       "      <td>Santa Teresita</td>\n",
       "      <td>De La Costa</td>\n",
       "    </tr>\n",
       "  </tbody>\n",
       "</table>\n",
       "<p>19000 rows × 2 columns</p>\n",
       "</div>"
      ],
      "text/plain": [
       "                      Barrio         Localidad\n",
       "0                 Belgrano C          Belgrano\n",
       "1                 Belgrano R          Belgrano\n",
       "2                   Belgrano   Capital Federal\n",
       "3         Belgrano Barrancas          Belgrano\n",
       "4                    Palermo   Capital Federal\n",
       "...                      ...               ...\n",
       "18995           Villa Gesell      Buenos Aires\n",
       "18996           Barrio Norte   Capital Federal\n",
       "18997         Santos Lugares   Tres De Febrero\n",
       "18998                 Centro   Capital Federal\n",
       "18999         Santa Teresita       De La Costa\n",
       "\n",
       "[19000 rows x 2 columns]"
      ]
     },
     "execution_count": 27,
     "metadata": {},
     "output_type": "execute_result"
    }
   ],
   "source": [
    "ubi1"
   ]
  },
  {
   "cell_type": "code",
   "execution_count": 28,
   "id": "45d95b7c",
   "metadata": {},
   "outputs": [],
   "source": [
    "df = pd.concat([df,ubi1], axis=1)"
   ]
  },
  {
   "cell_type": "code",
   "execution_count": 30,
   "id": "893ea5a6",
   "metadata": {},
   "outputs": [
    {
     "data": {
      "text/html": [
       "<div>\n",
       "<style scoped>\n",
       "    .dataframe tbody tr th:only-of-type {\n",
       "        vertical-align: middle;\n",
       "    }\n",
       "\n",
       "    .dataframe tbody tr th {\n",
       "        vertical-align: top;\n",
       "    }\n",
       "\n",
       "    .dataframe thead th {\n",
       "        text-align: right;\n",
       "    }\n",
       "</style>\n",
       "<table border=\"1\" class=\"dataframe\">\n",
       "  <thead>\n",
       "    <tr style=\"text-align: right;\">\n",
       "      <th></th>\n",
       "      <th>Unnamed: 0</th>\n",
       "      <th>Direccion</th>\n",
       "      <th>Ubicacion</th>\n",
       "      <th>Moneda</th>\n",
       "      <th>Precio</th>\n",
       "      <th>Expensas</th>\n",
       "      <th>Metros Cuadrados</th>\n",
       "      <th>Dormitorios</th>\n",
       "      <th>Antigüedad</th>\n",
       "      <th>Baños</th>\n",
       "      <th>Barrio</th>\n",
       "      <th>Localidad</th>\n",
       "    </tr>\n",
       "  </thead>\n",
       "  <tbody>\n",
       "    <tr>\n",
       "      <th>0</th>\n",
       "      <td>1</td>\n",
       "      <td>Palpa 2500</td>\n",
       "      <td>Belgrano C, Belgrano</td>\n",
       "      <td>USD</td>\n",
       "      <td>145.0</td>\n",
       "      <td>11000.0</td>\n",
       "      <td>55.0</td>\n",
       "      <td>2.0</td>\n",
       "      <td>NaN</td>\n",
       "      <td>1.0</td>\n",
       "      <td>Belgrano C</td>\n",
       "      <td>Belgrano</td>\n",
       "    </tr>\n",
       "    <tr>\n",
       "      <th>1</th>\n",
       "      <td>2</td>\n",
       "      <td>Virrey Olaguer  Y Feliu 3100</td>\n",
       "      <td>Belgrano R, Belgrano</td>\n",
       "      <td>USD</td>\n",
       "      <td>107.0</td>\n",
       "      <td>11000.0</td>\n",
       "      <td>50.0</td>\n",
       "      <td>1.0</td>\n",
       "      <td>20.0</td>\n",
       "      <td>1.0</td>\n",
       "      <td>Belgrano R</td>\n",
       "      <td>Belgrano</td>\n",
       "    </tr>\n",
       "  </tbody>\n",
       "</table>\n",
       "</div>"
      ],
      "text/plain": [
       "   Unnamed: 0                     Direccion                Ubicacion Moneda  \\\n",
       "0           1                    Palpa 2500     Belgrano C, Belgrano    USD   \n",
       "1           2  Virrey Olaguer  Y Feliu 3100     Belgrano R, Belgrano    USD   \n",
       "\n",
       "   Precio  Expensas  Metros Cuadrados  Dormitorios  Antigüedad  Baños  \\\n",
       "0   145.0   11000.0              55.0          2.0         NaN    1.0   \n",
       "1   107.0   11000.0              50.0          1.0        20.0    1.0   \n",
       "\n",
       "          Barrio  Localidad  \n",
       "0     Belgrano C   Belgrano  \n",
       "1     Belgrano R   Belgrano  "
      ]
     },
     "execution_count": 30,
     "metadata": {},
     "output_type": "execute_result"
    }
   ],
   "source": [
    "df.head(2)"
   ]
  },
  {
   "cell_type": "markdown",
   "id": "105717b0",
   "metadata": {},
   "source": [
    "Reordenamos"
   ]
  },
  {
   "cell_type": "code",
   "execution_count": 31,
   "id": "a74b31dd",
   "metadata": {},
   "outputs": [],
   "source": [
    "cols = list(df.columns)\n"
   ]
  },
  {
   "cell_type": "code",
   "execution_count": 37,
   "id": "29614cae",
   "metadata": {},
   "outputs": [],
   "source": [
    "df = df[cols[1:2]+[cols[-2]]+[cols[-1]]+cols[3:9]]"
   ]
  },
  {
   "cell_type": "code",
   "execution_count": 33,
   "id": "0e8a2305",
   "metadata": {},
   "outputs": [
    {
     "data": {
      "text/html": [
       "<div>\n",
       "<style scoped>\n",
       "    .dataframe tbody tr th:only-of-type {\n",
       "        vertical-align: middle;\n",
       "    }\n",
       "\n",
       "    .dataframe tbody tr th {\n",
       "        vertical-align: top;\n",
       "    }\n",
       "\n",
       "    .dataframe thead th {\n",
       "        text-align: right;\n",
       "    }\n",
       "</style>\n",
       "<table border=\"1\" class=\"dataframe\">\n",
       "  <thead>\n",
       "    <tr style=\"text-align: right;\">\n",
       "      <th></th>\n",
       "      <th>Direccion</th>\n",
       "      <th>Barrio</th>\n",
       "      <th>Localidad</th>\n",
       "      <th>Moneda</th>\n",
       "      <th>Precio</th>\n",
       "      <th>Expensas</th>\n",
       "      <th>Metros Cuadrados</th>\n",
       "      <th>Dormitorios</th>\n",
       "      <th>Antigüedad</th>\n",
       "    </tr>\n",
       "  </thead>\n",
       "  <tbody>\n",
       "    <tr>\n",
       "      <th>0</th>\n",
       "      <td>Palpa 2500</td>\n",
       "      <td>Belgrano C</td>\n",
       "      <td>Belgrano</td>\n",
       "      <td>USD</td>\n",
       "      <td>145.0</td>\n",
       "      <td>11000.0</td>\n",
       "      <td>55.0</td>\n",
       "      <td>2.0</td>\n",
       "      <td>NaN</td>\n",
       "    </tr>\n",
       "    <tr>\n",
       "      <th>1</th>\n",
       "      <td>Virrey Olaguer  Y Feliu 3100</td>\n",
       "      <td>Belgrano R</td>\n",
       "      <td>Belgrano</td>\n",
       "      <td>USD</td>\n",
       "      <td>107.0</td>\n",
       "      <td>11000.0</td>\n",
       "      <td>50.0</td>\n",
       "      <td>1.0</td>\n",
       "      <td>20.0</td>\n",
       "    </tr>\n",
       "  </tbody>\n",
       "</table>\n",
       "</div>"
      ],
      "text/plain": [
       "                      Direccion         Barrio  Localidad Moneda  Precio  \\\n",
       "0                    Palpa 2500     Belgrano C   Belgrano    USD   145.0   \n",
       "1  Virrey Olaguer  Y Feliu 3100     Belgrano R   Belgrano    USD   107.0   \n",
       "\n",
       "   Expensas  Metros Cuadrados  Dormitorios  Antigüedad  \n",
       "0   11000.0              55.0          2.0         NaN  \n",
       "1   11000.0              50.0          1.0        20.0  "
      ]
     },
     "execution_count": 33,
     "metadata": {},
     "output_type": "execute_result"
    }
   ],
   "source": [
    "df.head(2)"
   ]
  },
  {
   "cell_type": "markdown",
   "id": "2720d0d1",
   "metadata": {},
   "source": [
    "Corregir Precio"
   ]
  },
  {
   "cell_type": "code",
   "execution_count": 38,
   "id": "4ee4d0bb",
   "metadata": {},
   "outputs": [],
   "source": [
    "df['Precio'] = df['Precio'] * 1000"
   ]
  },
  {
   "cell_type": "code",
   "execution_count": 39,
   "id": "38ed3271",
   "metadata": {
    "scrolled": true
   },
   "outputs": [
    {
     "data": {
      "text/html": [
       "<div>\n",
       "<style scoped>\n",
       "    .dataframe tbody tr th:only-of-type {\n",
       "        vertical-align: middle;\n",
       "    }\n",
       "\n",
       "    .dataframe tbody tr th {\n",
       "        vertical-align: top;\n",
       "    }\n",
       "\n",
       "    .dataframe thead th {\n",
       "        text-align: right;\n",
       "    }\n",
       "</style>\n",
       "<table border=\"1\" class=\"dataframe\">\n",
       "  <thead>\n",
       "    <tr style=\"text-align: right;\">\n",
       "      <th></th>\n",
       "      <th>Direccion</th>\n",
       "      <th>Barrio</th>\n",
       "      <th>Localidad</th>\n",
       "      <th>Moneda</th>\n",
       "      <th>Precio</th>\n",
       "      <th>Expensas</th>\n",
       "      <th>Metros Cuadrados</th>\n",
       "      <th>Dormitorios</th>\n",
       "      <th>Antigüedad</th>\n",
       "    </tr>\n",
       "  </thead>\n",
       "  <tbody>\n",
       "    <tr>\n",
       "      <th>0</th>\n",
       "      <td>Palpa 2500</td>\n",
       "      <td>Belgrano C</td>\n",
       "      <td>Belgrano</td>\n",
       "      <td>USD</td>\n",
       "      <td>145000.0</td>\n",
       "      <td>11000.0</td>\n",
       "      <td>55.0</td>\n",
       "      <td>2.0</td>\n",
       "      <td>NaN</td>\n",
       "    </tr>\n",
       "    <tr>\n",
       "      <th>1</th>\n",
       "      <td>Virrey Olaguer  Y Feliu 3100</td>\n",
       "      <td>Belgrano R</td>\n",
       "      <td>Belgrano</td>\n",
       "      <td>USD</td>\n",
       "      <td>107000.0</td>\n",
       "      <td>11000.0</td>\n",
       "      <td>50.0</td>\n",
       "      <td>1.0</td>\n",
       "      <td>20.0</td>\n",
       "    </tr>\n",
       "  </tbody>\n",
       "</table>\n",
       "</div>"
      ],
      "text/plain": [
       "                      Direccion         Barrio  Localidad Moneda    Precio  \\\n",
       "0                    Palpa 2500     Belgrano C   Belgrano    USD  145000.0   \n",
       "1  Virrey Olaguer  Y Feliu 3100     Belgrano R   Belgrano    USD  107000.0   \n",
       "\n",
       "   Expensas  Metros Cuadrados  Dormitorios  Antigüedad  \n",
       "0   11000.0              55.0          2.0         NaN  \n",
       "1   11000.0              50.0          1.0        20.0  "
      ]
     },
     "execution_count": 39,
     "metadata": {},
     "output_type": "execute_result"
    }
   ],
   "source": [
    "df.head(2)"
   ]
  },
  {
   "cell_type": "code",
   "execution_count": 43,
   "id": "a15de08a",
   "metadata": {},
   "outputs": [
    {
     "data": {
      "text/plain": [
       " USD    17526\n",
       "USD       949\n",
       " $         73\n",
       "$           1\n",
       "Name: Moneda, dtype: int64"
      ]
     },
     "execution_count": 43,
     "metadata": {},
     "output_type": "execute_result"
    }
   ],
   "source": [
    "df['Moneda'].value_counts()"
   ]
  },
  {
   "cell_type": "code",
   "execution_count": 44,
   "id": "7ef0694b",
   "metadata": {},
   "outputs": [],
   "source": [
    "df['Moneda'] = df['Moneda'].str.strip()"
   ]
  },
  {
   "cell_type": "code",
   "execution_count": 45,
   "id": "b0602ddc",
   "metadata": {},
   "outputs": [
    {
     "data": {
      "text/plain": [
       "USD    18475\n",
       "$         74\n",
       "Name: Moneda, dtype: int64"
      ]
     },
     "execution_count": 45,
     "metadata": {},
     "output_type": "execute_result"
    }
   ],
   "source": [
    "df['Moneda'].value_counts()"
   ]
  },
  {
   "cell_type": "code",
   "execution_count": null,
   "id": "6f8050b9",
   "metadata": {},
   "outputs": [],
   "source": []
  },
  {
   "cell_type": "code",
   "execution_count": 46,
   "id": "9966e7ea",
   "metadata": {},
   "outputs": [
    {
     "name": "stdout",
     "output_type": "stream",
     "text": [
      "<class 'pandas.core.frame.DataFrame'>\n",
      "RangeIndex: 19000 entries, 0 to 18999\n",
      "Data columns (total 9 columns):\n",
      " #   Column            Non-Null Count  Dtype  \n",
      "---  ------            --------------  -----  \n",
      " 0   Direccion         18956 non-null  object \n",
      " 1   Barrio            19000 non-null  object \n",
      " 2   Localidad         19000 non-null  object \n",
      " 3   Moneda            18549 non-null  object \n",
      " 4   Precio            18410 non-null  float64\n",
      " 5   Expensas          11133 non-null  float64\n",
      " 6   Metros Cuadrados  16988 non-null  float64\n",
      " 7   Dormitorios       18617 non-null  float64\n",
      " 8   Antigüedad        10921 non-null  float64\n",
      "dtypes: float64(5), object(4)\n",
      "memory usage: 1.3+ MB\n"
     ]
    }
   ],
   "source": [
    "df.info()"
   ]
  },
  {
   "cell_type": "markdown",
   "id": "e1d52d2c",
   "metadata": {},
   "source": [
    "Cambiamos de object a float"
   ]
  },
  {
   "cell_type": "code",
   "execution_count": 22,
   "id": "bd387f6d",
   "metadata": {},
   "outputs": [],
   "source": [
    "df['Precio'] = pd.to_numeric(df['Precio'], errors='coerce')\n",
    "\n",
    "df['Metros Cuadrados'] = pd.to_numeric(df['Metros Cuadrados'], errors='coerce')\n",
    "\n",
    "df['Dormitorios'] = pd.to_numeric(df['Dormitorios'], errors='coerce')\n",
    "\n",
    "df['Antigüedad'] = pd.to_numeric(df['Antigüedad'], errors='coerce')\n",
    "\n",
    "df['Baños'] = pd.to_numeric(df['Baños'], errors='coerce')"
   ]
  },
  {
   "cell_type": "code",
   "execution_count": 23,
   "id": "2da404e8",
   "metadata": {},
   "outputs": [
    {
     "name": "stdout",
     "output_type": "stream",
     "text": [
      "<class 'pandas.core.frame.DataFrame'>\n",
      "RangeIndex: 19000 entries, 0 to 18999\n",
      "Data columns (total 10 columns):\n",
      " #   Column            Non-Null Count  Dtype  \n",
      "---  ------            --------------  -----  \n",
      " 0   Unnamed: 0        19000 non-null  int64  \n",
      " 1   Direccion         18956 non-null  object \n",
      " 2   Ubicacion         19000 non-null  object \n",
      " 3   Moneda            18549 non-null  object \n",
      " 4   Precio            18410 non-null  float64\n",
      " 5   Expensas          11133 non-null  float64\n",
      " 6   Metros Cuadrados  16988 non-null  float64\n",
      " 7   Dormitorios       18617 non-null  float64\n",
      " 8   Antigüedad        10921 non-null  float64\n",
      " 9   Baños             17690 non-null  float64\n",
      "dtypes: float64(6), int64(1), object(3)\n",
      "memory usage: 1.4+ MB\n"
     ]
    }
   ],
   "source": [
    "df.info()"
   ]
  },
  {
   "cell_type": "code",
   "execution_count": 47,
   "id": "4e3072c4",
   "metadata": {},
   "outputs": [],
   "source": [
    "df.to_excel('df limpio.xlsx', index=False)"
   ]
  },
  {
   "cell_type": "code",
   "execution_count": null,
   "id": "f60198ac",
   "metadata": {},
   "outputs": [],
   "source": []
  }
 ],
 "metadata": {
  "kernelspec": {
   "display_name": "Python 3 (ipykernel)",
   "language": "python",
   "name": "python3"
  },
  "language_info": {
   "codemirror_mode": {
    "name": "ipython",
    "version": 3
   },
   "file_extension": ".py",
   "mimetype": "text/x-python",
   "name": "python",
   "nbconvert_exporter": "python",
   "pygments_lexer": "ipython3",
   "version": "3.9.7"
  }
 },
 "nbformat": 4,
 "nbformat_minor": 5
}
